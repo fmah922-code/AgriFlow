{
 "cells": [
  {
   "cell_type": "code",
   "execution_count": 2,
   "metadata": {},
   "outputs": [],
   "source": [
    "import requests"
   ]
  },
  {
   "cell_type": "code",
   "execution_count": null,
   "metadata": {},
   "outputs": [],
   "source": [
    "class USDA_API():\n",
    "    def __init__(self, key):\n",
    "        self.url = 'https://quickstats.nass.usda.gov/api'\n",
    "        self.key = key\n",
    "        self.params = ''\n",
    "        self.format = 'json'\n",
    "\n",
    "    \n",
    "    def add_params(self, fieldname, value):\n",
    "        self.params += f'&{fieldname}={value}'\n",
    "    \n",
    "    def return_params(self):\n",
    "        return self.params\n",
    "    \n",
    "    def return_call(self):\n",
    "        return self.url + '/api_GET/?' + f'key={self.key}' + self.params + f'&format={self.format}'\n",
    "\n",
    "    def remove_params(self, fieldname):\n",
    "        if len(self.params.split('&')) > 1:\n",
    "            new_params = ''\n",
    "            size = 1\n",
    "            remove_params = [item for item in self.params.split('&') if fieldname not in item]\n",
    "        \n",
    "            for item in remove_params:\n",
    "                if len(remove_params) > 1 and len(item) != 0 and size < len(remove_params - 1):\n",
    "                    new_params += item + '&'\n",
    "                    size = size + 1\n",
    "                else:\n",
    "                    new_params  += item\n",
    "            self.params = '&' + new_params\n",
    "        else:\n",
    "            self.params = self.params\n",
    "            print('No Parameters to remove')\n",
    "\n",
    "    def call(self):\n",
    "        try:\n",
    "            response = requests.get(f'{self.url}/api_GET/?key={self.key}{self.params}&format={self.format}')\n",
    "            response.raise_for_status()\n",
    "            if response.status_code == 200:\n",
    "                get_counts = requests.get(f'{self.url}/get_counts/?key={self.key}{self.params}').json()\n",
    "            \n",
    "                if get_counts['count'] >= 50000:\n",
    "                    return f'Unable to Process Request. Request is greater than 50000 rows'\n",
    "                else:\n",
    "                    return response.json()\n",
    "                \n",
    "        except requests.exceptions.HTTPError as errh:\n",
    "            if   response.status_code == 415:\n",
    "                return f'Unable to Process Request. [415]: ' + str(response.json()['error'][0])\n",
    "            elif response.status_code == 401:\n",
    "                return f'Unable to Process Request. [401]: ' + str(response.json()['error'][0])\n"
   ]
  },
  {
   "cell_type": "code",
   "execution_count": null,
   "metadata": {},
   "outputs": [],
   "source": [
    "data = USDA_API('9DCFA99E-5354-384A-8E24-52D49A261AB0')\n",
    "\n",
    "data.add_params('commodity_desc','CORN')\n",
    "data.add_params('state_alpha','VA')\n",
    "data.add_params('year','2018')\n",
    "\n",
    "data.call()"
   ]
  }
 ],
 "metadata": {
  "kernelspec": {
   "display_name": ".venv",
   "language": "python",
   "name": "python3"
  },
  "language_info": {
   "codemirror_mode": {
    "name": "ipython",
    "version": 3
   },
   "file_extension": ".py",
   "mimetype": "text/x-python",
   "name": "python",
   "nbconvert_exporter": "python",
   "pygments_lexer": "ipython3",
   "version": "3.11.9"
  }
 },
 "nbformat": 4,
 "nbformat_minor": 2
}
