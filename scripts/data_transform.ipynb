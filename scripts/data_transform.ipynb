{
 "cells": [
  {
   "cell_type": "code",
   "execution_count": 25,
   "metadata": {},
   "outputs": [],
   "source": [
    "import sys\n",
    "import os\n",
    "from pymongo.mongo_client import MongoClient\n",
    "import pandas as pd"
   ]
  },
  {
   "cell_type": "code",
   "execution_count": 26,
   "metadata": {},
   "outputs": [],
   "source": [
    "config_path = os.getcwd().replace('\\\\scripts','')\n",
    "sys.path.insert(0, config_path)\n",
    "\n",
    "from config import settings "
   ]
  },
  {
   "cell_type": "markdown",
   "metadata": {},
   "source": [
    "Transformation 1: Removing any collections from MongoDB that have ambiguous names. \\\n",
    "Transformation 2: Dropping off the first row which was a dummy null row\\\n",
    "Transformation 3: Conversion collection columns to more appropriate datatypes. (not all strings)"
   ]
  },
  {
   "cell_type": "code",
   "execution_count": 27,
   "metadata": {},
   "outputs": [],
   "source": [
    "def generate_kept_fields(array):\n",
    "    kept_fields = []\n",
    "    for item in array:\n",
    "        if item not in settings.excluded_commodities:\n",
    "            kept_fields.append(item)\n",
    "    return kept_fields"
   ]
  },
  {
   "cell_type": "code",
   "execution_count": 28,
   "metadata": {},
   "outputs": [],
   "source": [
    "def drop_first_row(collection):\n",
    "    altered_col = collection.iloc[1:]\n",
    "    return altered_col          "
   ]
  },
  {
   "cell_type": "code",
   "execution_count": 29,
   "metadata": {},
   "outputs": [],
   "source": [
    "mongo_conn = MongoClient(settings.mongo_client)[settings.mongo_default_db]"
   ]
  },
  {
   "cell_type": "code",
   "execution_count": 24,
   "metadata": {},
   "outputs": [],
   "source": [
    "test_df = pd.DataFrame([item for item in mongo_conn.get_collection('WHEAT').find()])"
   ]
  },
  {
   "cell_type": "code",
   "execution_count": 32,
   "metadata": {},
   "outputs": [],
   "source": [
    "test_df = drop_first_row(test_df)"
   ]
  },
  {
   "cell_type": "code",
   "execution_count": 36,
   "metadata": {},
   "outputs": [],
   "source": [
    "test_df['year'] = test_df['year'].astype(int)"
   ]
  },
  {
   "cell_type": "code",
   "execution_count": 19,
   "metadata": {},
   "outputs": [
    {
     "name": "stdout",
     "output_type": "stream",
     "text": [
      "13290\n"
     ]
    }
   ],
   "source": [
    "for item in mongo_conn.list_collection_names():\n",
    "    total_rows = 0\n",
    "    total_rows += pd.DataFrame(mongo_conn.get_collection(item).find()).shape[0]\n",
    "print(total_rows)"
   ]
  },
  {
   "cell_type": "markdown",
   "metadata": {},
   "source": [
    "Transformation 2: Converting datatypes from strings to more efficient datatypes\n",
    "\n",
    "type(year) = int\n",
    "country_code = int\n",
    "county_code = int\n",
    "load_time = date\n",
    "value = decimal(16,2)"
   ]
  }
 ],
 "metadata": {
  "kernelspec": {
   "display_name": ".venv",
   "language": "python",
   "name": "python3"
  },
  "language_info": {
   "codemirror_mode": {
    "name": "ipython",
    "version": 3
   },
   "file_extension": ".py",
   "mimetype": "text/x-python",
   "name": "python",
   "nbconvert_exporter": "python",
   "pygments_lexer": "ipython3",
   "version": "3.11.9"
  }
 },
 "nbformat": 4,
 "nbformat_minor": 2
}
