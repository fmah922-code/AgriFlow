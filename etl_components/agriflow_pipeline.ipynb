{
 "cells": [
  {
   "cell_type": "code",
   "execution_count": null,
   "id": "e11a1184",
   "metadata": {},
   "outputs": [],
   "source": [
    "import os\n",
    "import sys\n",
    "\n",
    "sys.path.append(os.path.join(os.getcwd(), 'etl_components'))\n",
    "\n",
    "# Import ETL modules\n",
    "from extract import initialize_mongo, drop_db_if_exists, extract\n",
    "from transform import transform\n",
    "from load import load\n",
    "\n",
    "mongo_instance = initialize_mongo()\n",
    "# drop_db_if_exists(mongo_instance, 'USDA')\n",
    "# extract(mongo_instance)\n",
    "spark_rdd_list = transform(mongo_instance)\n",
    "load(spark_rdd_list)\n",
    "\n",
    "print(\"ETL pipeline executed in Jupyter Notebook!\")"
   ]
  }
 ],
 "metadata": {
  "kernelspec": {
   "display_name": "VirtualEnv",
   "language": "python",
   "name": "python3"
  },
  "language_info": {
   "codemirror_mode": {
    "name": "ipython",
    "version": 3
   },
   "file_extension": ".py",
   "mimetype": "text/x-python",
   "name": "python",
   "nbconvert_exporter": "python",
   "pygments_lexer": "ipython3",
   "version": "3.11.9"
  }
 },
 "nbformat": 4,
 "nbformat_minor": 5
}
